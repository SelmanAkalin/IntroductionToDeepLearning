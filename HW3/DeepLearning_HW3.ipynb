{
  "nbformat": 4,
  "nbformat_minor": 0,
  "metadata": {
    "colab": {
      "provenance": []
    },
    "kernelspec": {
      "name": "python3",
      "display_name": "Python 3"
    },
    "language_info": {
      "name": "python"
    }
  },
  "cells": [
    {
      "cell_type": "code",
      "source": [
        "if 0:\n",
        "    from google.colab import drive\n",
        "    drive.mount('/content/drive')\n",
        "if 0:\n",
        "    !cp -r /content/drive/MyDrive/HomeWork5 /content/\n",
        "!pip install tensorflow-addons\n",
        "#kaggle datasets download -d athota1/caltech101\n",
        "if 0:\n",
        "  ! pip install --upgrade --force-reinstall --no-deps kaggle\n",
        "  from google.colab import files\n",
        "  files.upload()\n",
        "  ! mkdir ~/.kaggle\n",
        "  ! cp kaggle.json ~/.kaggle/\n",
        "  ! chmod 600 ~/.kaggle/kaggle.json\n",
        "  ! kaggle competitions download -c digit-recognizer\n",
        "\n",
        "  ! unzip digit-recognizer.zip -d /content/digit-recognizer"
      ],
      "metadata": {
        "colab": {
          "base_uri": "https://localhost:8080/"
        },
        "id": "gX0yR4fTvRsB",
        "outputId": "5975965a-d117-4266-fda3-610574ba27cd"
      },
      "execution_count": null,
      "outputs": [
        {
          "output_type": "stream",
          "name": "stdout",
          "text": [
            "Requirement already satisfied: tensorflow-addons in /usr/local/lib/python3.10/dist-packages (0.23.0)\n",
            "Requirement already satisfied: packaging in /usr/local/lib/python3.10/dist-packages (from tensorflow-addons) (23.2)\n",
            "Requirement already satisfied: typeguard<3.0.0,>=2.7 in /usr/local/lib/python3.10/dist-packages (from tensorflow-addons) (2.13.3)\n"
          ]
        }
      ]
    },
    {
      "cell_type": "code",
      "source": [
        "import torch\n",
        "import torch.nn as nn\n",
        "import torch.optim as optim\n",
        "from torch.utils.data import DataLoader, TensorDataset\n",
        "from sklearn.model_selection import train_test_split\n",
        "import numpy as np\n",
        "\n",
        "# Load data\n",
        "X_train = np.load('/content/drive/MyDrive/HW5-gear/HW5-gear/data/DataForClassification_TimeDomain.npy')\n",
        "X_train = np.transpose(X_train)\n",
        "\n",
        "Y_train = np.zeros((936, 1))\n",
        "label = 0\n",
        "\n",
        "for i in range(936):\n",
        "    Y_train[i] = label\n",
        "    if (i % 104 == 0) and (i != 0):\n",
        "        label = label + 1\n",
        "\n",
        "# PyTorch tensor kullanımı\n",
        "X_train = torch.Tensor(X_train)\n",
        "Y_train = torch.Tensor(Y_train).long()\n",
        "\n",
        "# Train-Test Split\n",
        "X_dev, X_test, Y_dev, Y_test = train_test_split(X_train, Y_train, test_size=0.2, shuffle=True, random_state=0)\n",
        "X_train, X_val, Y_train, Y_val = train_test_split(X_dev, Y_dev, test_size=0.2, shuffle=True, random_state=0)\n",
        "\n",
        "# Dimension arttırma\n",
        "X_train = X_train.unsqueeze(1)\n",
        "X_val = X_val.unsqueeze(1)\n",
        "X_test = X_test.unsqueeze(1)\n",
        "\n",
        "train_dataset = TensorDataset(X_train, Y_train)\n",
        "train_loader = DataLoader(train_dataset, batch_size=64, shuffle=True)\n",
        "\n",
        "class ImprovedGRUModel(nn.Module):\n",
        "    def __init__(self, input_size, hidden_size, output_size, dropout_rate=0.5):\n",
        "        super(ImprovedGRUModel, self).__init__()\n",
        "        self.gru = nn.GRU(input_size, hidden_size, batch_first=True)\n",
        "        self.dropout = nn.Dropout(dropout_rate)\n",
        "        self.fc1 = nn.Linear(hidden_size, 32)\n",
        "        self.fc2 = nn.Linear(32, output_size)\n",
        "\n",
        "    def forward(self, x):\n",
        "        out, _ = self.gru(x)\n",
        "        out = self.dropout(out[:, -1, :])\n",
        "        out = self.fc1(out)\n",
        "        out = self.fc2(out)\n",
        "        return out\n",
        "\n",
        "# Initialize model\n",
        "input_size = X_train.shape[2]\n",
        "hidden_size = 64\n",
        "output_size = 9\n",
        "model = ImprovedGRUModel(input_size, hidden_size, output_size)\n",
        "\n",
        "# Loss ve optimizer\n",
        "criterion = nn.CrossEntropyLoss()\n",
        "optimizer = optim.Adam(model.parameters(), lr=1e-4)\n",
        "\n",
        "# Training loop\n",
        "num_epochs = 50\n",
        "for epoch in range(num_epochs):\n",
        "    for inputs, labels in train_loader:\n",
        "        optimizer.zero_grad()\n",
        "        outputs = model(inputs)\n",
        "        loss = criterion(outputs, labels.squeeze())\n",
        "        loss.backward()\n",
        "        optimizer.step()\n",
        "\n",
        "    # Validation accuracy\n",
        "    model.eval()\n",
        "    with torch.no_grad():\n",
        "        val_outputs = model(X_val)\n",
        "        val_accuracy = (torch.argmax(val_outputs, dim=1) == Y_val.squeeze()).sum().item() / len(Y_val)\n",
        "\n",
        "    print(f'Epoch {epoch + 1}/{num_epochs}, Loss: {loss.item():.4f}, Val Accuracy: {val_accuracy:.4f}')\n",
        "    model.train()\n",
        "\n",
        "# Test\n",
        "model.eval()\n",
        "with torch.no_grad():\n",
        "    test_outputs = model(X_test)\n",
        "    test_accuracy = (torch.argmax(test_outputs, dim=1) == Y_test.squeeze()).sum().item() / len(Y_test)\n",
        "\n",
        "print(f'Test Accuracy: {test_accuracy:.4f}')\n",
        "\n",
        "# Save\n",
        "torch.save(model.state_dict(), '/content/drive/MyDrive/gru_model')\n"
      ],
      "metadata": {
        "colab": {
          "base_uri": "https://localhost:8080/"
        },
        "id": "lvnXeohD1B5d",
        "outputId": "fb39ef3c-d23d-4aa8-8c44-dd8ed84d90f5"
      },
      "execution_count": null,
      "outputs": [
        {
          "output_type": "stream",
          "name": "stdout",
          "text": [
            "Epoch 1/50, Loss: 2.1610, Val Accuracy: 0.2600\n",
            "Epoch 2/50, Loss: 2.1444, Val Accuracy: 0.3267\n",
            "Epoch 3/50, Loss: 2.1370, Val Accuracy: 0.3733\n",
            "Epoch 4/50, Loss: 2.1100, Val Accuracy: 0.4067\n",
            "Epoch 5/50, Loss: 2.0686, Val Accuracy: 0.4267\n",
            "Epoch 6/50, Loss: 2.0284, Val Accuracy: 0.4667\n",
            "Epoch 7/50, Loss: 2.0056, Val Accuracy: 0.4733\n",
            "Epoch 8/50, Loss: 1.9423, Val Accuracy: 0.5067\n",
            "Epoch 9/50, Loss: 1.9885, Val Accuracy: 0.5067\n",
            "Epoch 10/50, Loss: 1.8704, Val Accuracy: 0.5600\n",
            "Epoch 11/50, Loss: 1.9344, Val Accuracy: 0.6000\n",
            "Epoch 12/50, Loss: 1.8091, Val Accuracy: 0.6267\n",
            "Epoch 13/50, Loss: 1.8082, Val Accuracy: 0.6333\n",
            "Epoch 14/50, Loss: 1.7497, Val Accuracy: 0.6600\n",
            "Epoch 15/50, Loss: 1.6462, Val Accuracy: 0.6867\n",
            "Epoch 16/50, Loss: 1.6398, Val Accuracy: 0.7000\n",
            "Epoch 17/50, Loss: 1.6747, Val Accuracy: 0.7000\n",
            "Epoch 18/50, Loss: 1.5752, Val Accuracy: 0.6933\n",
            "Epoch 19/50, Loss: 1.5330, Val Accuracy: 0.7000\n",
            "Epoch 20/50, Loss: 1.5420, Val Accuracy: 0.6933\n",
            "Epoch 21/50, Loss: 1.3678, Val Accuracy: 0.7133\n",
            "Epoch 22/50, Loss: 1.3973, Val Accuracy: 0.7267\n",
            "Epoch 23/50, Loss: 1.3634, Val Accuracy: 0.7400\n",
            "Epoch 24/50, Loss: 1.3048, Val Accuracy: 0.7400\n",
            "Epoch 25/50, Loss: 1.1551, Val Accuracy: 0.7533\n",
            "Epoch 26/50, Loss: 1.2296, Val Accuracy: 0.7467\n",
            "Epoch 27/50, Loss: 1.2087, Val Accuracy: 0.7467\n",
            "Epoch 28/50, Loss: 1.1599, Val Accuracy: 0.7600\n",
            "Epoch 29/50, Loss: 1.0001, Val Accuracy: 0.7533\n",
            "Epoch 30/50, Loss: 1.1407, Val Accuracy: 0.7667\n",
            "Epoch 31/50, Loss: 1.0359, Val Accuracy: 0.7933\n",
            "Epoch 32/50, Loss: 0.9838, Val Accuracy: 0.8000\n",
            "Epoch 33/50, Loss: 1.0860, Val Accuracy: 0.8067\n",
            "Epoch 34/50, Loss: 1.0232, Val Accuracy: 0.8067\n",
            "Epoch 35/50, Loss: 0.8204, Val Accuracy: 0.8400\n",
            "Epoch 36/50, Loss: 0.9990, Val Accuracy: 0.8600\n",
            "Epoch 37/50, Loss: 0.7923, Val Accuracy: 0.8667\n",
            "Epoch 38/50, Loss: 0.7889, Val Accuracy: 0.8667\n",
            "Epoch 39/50, Loss: 0.8826, Val Accuracy: 0.8667\n",
            "Epoch 40/50, Loss: 0.9010, Val Accuracy: 0.8667\n",
            "Epoch 41/50, Loss: 0.7933, Val Accuracy: 0.8733\n",
            "Epoch 42/50, Loss: 0.6944, Val Accuracy: 0.8733\n",
            "Epoch 43/50, Loss: 0.7251, Val Accuracy: 0.8800\n",
            "Epoch 44/50, Loss: 0.9506, Val Accuracy: 0.8800\n",
            "Epoch 45/50, Loss: 0.5849, Val Accuracy: 0.8867\n",
            "Epoch 46/50, Loss: 0.7254, Val Accuracy: 0.8933\n",
            "Epoch 47/50, Loss: 0.6729, Val Accuracy: 0.8933\n",
            "Epoch 48/50, Loss: 0.6860, Val Accuracy: 0.8933\n",
            "Epoch 49/50, Loss: 0.4490, Val Accuracy: 0.8933\n",
            "Epoch 50/50, Loss: 0.5440, Val Accuracy: 0.9067\n",
            "Test Accuracy: 0.9149\n"
          ]
        }
      ]
    },
    {
      "cell_type": "code",
      "source": [
        "# Yükleme işlemi\n",
        "loaded_model = ImprovedGRUModel(input_size, hidden_size, output_size)\n",
        "loaded_model.load_state_dict(torch.load('/content/drive/MyDrive/gru_model'))\n",
        "loaded_model.eval()\n",
        "with torch.no_grad():\n",
        "    test_outputs = model(X_test)\n",
        "    test_accuracy = (torch.argmax(test_outputs, dim=1) == Y_test.squeeze()).sum().item() / len(Y_test)\n",
        "\n",
        "print(f'Test Accuracy: {test_accuracy:.4f}')"
      ],
      "metadata": {
        "colab": {
          "base_uri": "https://localhost:8080/"
        },
        "id": "R5-V4GiK5nMt",
        "outputId": "e27c8ccc-9d29-4c4d-839c-443513aa908e"
      },
      "execution_count": null,
      "outputs": [
        {
          "output_type": "stream",
          "name": "stdout",
          "text": [
            "Test Accuracy: 0.9149\n"
          ]
        }
      ]
    },
    {
      "cell_type": "code",
      "source": [
        "import torch\n",
        "import torch.nn as nn\n",
        "from torch.utils.data import DataLoader, TensorDataset\n",
        "from sklearn.metrics import confusion_matrix, accuracy_score\n",
        "import seaborn as sns\n",
        "import matplotlib.pyplot as plt\n",
        "import numpy as np\n",
        "\n",
        "model.eval()\n",
        "with torch.no_grad():\n",
        "    test_outputs = model(X_test)\n",
        "    predictions = torch.argmax(test_outputs, dim=1).numpy()\n",
        "    true_labels = Y_test.squeeze().numpy()\n",
        "\n",
        "# Confusion matrix\n",
        "cm = confusion_matrix(true_labels, predictions)\n",
        "\n",
        "# ACC hesaplama\n",
        "accuracy = accuracy_score(true_labels, predictions)\n",
        "\n",
        "class_names = [str(i) for i in range(9)]\n",
        "plt.figure(figsize=(8, 6))\n",
        "sns.heatmap(cm, annot=True, fmt='d', cmap='Blues', xticklabels=class_names, yticklabels=class_names)\n",
        "plt.title('Confusion Matrix')\n",
        "plt.xlabel('Predicted')\n",
        "plt.ylabel('True')\n",
        "plt.show()\n",
        "\n",
        "print(f'Accuracy: {accuracy:.4f}')\n"
      ],
      "metadata": {
        "colab": {
          "base_uri": "https://localhost:8080/",
          "height": 581
        },
        "id": "KuFLbPGY6UbN",
        "outputId": "ace5956c-7ab1-4769-b30f-159d6c6db3ea"
      },
      "execution_count": null,
      "outputs": [
        {
          "output_type": "display_data",
          "data": {
            "text/plain": [
              "<Figure size 800x600 with 2 Axes>"
            ],
            "image/png": "[encoded data removed]"
          },
          "metadata": {}
        },
        {
          "output_type": "stream",
          "name": "stdout",
          "text": [
            "Accuracy: 0.9149\n"
          ]
        }
      ]
    }
  ]
}