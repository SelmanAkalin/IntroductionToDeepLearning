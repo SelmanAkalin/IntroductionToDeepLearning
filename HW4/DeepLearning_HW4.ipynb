{
  "nbformat": 4,
  "nbformat_minor": 0,
  "metadata": {
    "colab": {
      "provenance": []
    },
    "kernelspec": {
      "name": "python3",
      "display_name": "Python 3"
    },
    "language_info": {
      "name": "python"
    }
  },
  "cells": [
    {
      "cell_type": "code",
      "execution_count": null,
      "metadata": {
        "id": "q6QwkGx6bcBU"
      },
      "outputs": [],
      "source": [
        "import tensorflow as tf\n",
        "from keras.preprocessing.image import ImageDataGenerator"
      ]
    },
    {
      "cell_type": "code",
      "source": [
        "train_data_preprocess = ImageDataGenerator(rescale = 1./255,\n",
        "                                shear_range = 0.2,\n",
        "                                zoom_range = 0.2,\n",
        "                                horizontal_flip = True)\n",
        "training_set_preprocess = train_data_preprocess.flow_from_directory('train/camera',\n",
        "                                                                    target_size = (224,224,3),\n",
        "                                                                    batch_size = 16)"
      ],
      "metadata": {
        "id": "urldWh46NItd"
      },
      "execution_count": null,
      "outputs": []
    },
    {
      "cell_type": "code",
      "source": [
        "CNN = tf.keras.models.Sequential()"
      ],
      "metadata": {
        "id": "-e9JepYaeToU"
      },
      "execution_count": null,
      "outputs": []
    },
    {
      "cell_type": "code",
      "source": [
        "CNN.add(tf.keras.layers.Conv2D(filters = 3,\n",
        "                               kernel_size = 3,\n",
        "                               activation = 'swish',\n",
        "                               strides = (1, 1),\n",
        "                               padding = \"same\",\n",
        "                               input_shape = [224, 224, 3]))"
      ],
      "metadata": {
        "id": "KHu0h7UfHSrP"
      },
      "execution_count": null,
      "outputs": []
    },
    {
      "cell_type": "code",
      "source": [],
      "metadata": {
        "id": "_QSomRwnI3vE"
      },
      "execution_count": null,
      "outputs": []
    }
  ]
}