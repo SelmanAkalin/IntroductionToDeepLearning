{
  "nbformat": 4,
  "nbformat_minor": 0,
  "metadata": {
    "colab": {
      "provenance": []
    },
    "kernelspec": {
      "name": "python3",
      "display_name": "Python 3"
    },
    "language_info": {
      "name": "python"
    }
  },
  "cells": [
    {
      "cell_type": "code",
      "source": [
        "from PIL import Image\n",
        "import os\n",
        "import numpy as np\n",
        "\n",
        "labels = np.array(['c','c','c','c','c','c','c','c','c','c','c','c','c','c','c','c','c','c','c','c','c','c','c','c','c','c','c','c','c','c','c','c','c','c','c','c','c','c','c','c','c','c','c','c','c','c','c',\n",
        "                   'f','f','f','f','f','f','f','f','f','f','f','f','f','f','f','f','f','f','f','f','f','f','f','f','f','f','f','f','f','f','f','f','f','f','f','f','f','f','f','f','f','f','f','f','f','f','f','f','f','f','f','f','f',\n",
        "                   'm','m','m','m','m','m','m','m','m','m','m','m','m','m','m','m','m','m','m','m','m','m','m','m','m','m','m','m','m','m','m','m','m','m','m','m','m','m','m','m','m','m','m','m','m','m','m','m','m','m','m','m','m','m','m','m','m','m','m','m','m','m','m','m','m','m','m','m','m','m','m','m','m','m','m','m','m','m','m','m','m','m','m','m','m','m','m','m','m','m','m','m','m','m','m','m','m','m','m','m',\n",
        "                   'm','m','m','m','m','m','m','m','m','m','m','m','m','m','m','m','m','m','m','m','m','m','m','m','m','m','m','m','m','m','m','m','m','m','m','m','m','m','m','m','m','m','m','m','m','m','m','m','m','m','m','m','m','m','m','m','m','m','m','m','m','m','m','m','m','m','m','m','m','m','m','m','m','m','m','m','m','m','m','m','m','m','m','m','m','m','m','m','m','m','m','m','m','m'])\n",
        "\n",
        "# KNN fonksiyonu\n",
        "def euclidean_distance(vx, vy):\n",
        "    return sum((y-x)**2 for x,y in zip(vx, vy))**0.5\n",
        "    #return np.linalg.norm(x - y)\n",
        "\n",
        "def KNN(x_train, y_train, sample_test, k):\n",
        "    distances = []\n",
        "    for i in range(len(x_train)):\n",
        "        dist = euclidean_distance(sample_test, x_train[i])\n",
        "        distances.append((dist, y_train[i]))\n",
        "    distances.sort(key=lambda x: x[0])\n",
        "    neighbors = distances[:k]\n",
        "    class_votes = {}\n",
        "    for neighbor in neighbors:\n",
        "        response = neighbor[1]\n",
        "        print(neighbor[1])# Hangi sınıfa ait elemanların en benzer olduğunu görmek için tiplerini ekrana yazdırdım\n",
        "        class_votes[response] = class_votes.get(response, 0) + 1\n",
        "    most_voted_class = max(class_votes, key=class_votes.get)\n",
        "    return most_voted_class\n",
        "\n",
        "# Çalışma dizinindeki .jpg uzantılı dosyaları al\n",
        "image_folder_path = \"./\"  # Çalışma dizini (gerekirse değiştirilebilir)\n",
        "image_files = [f for f in os.listdir(image_folder_path) if f.endswith(\").jpg\")]\n",
        "\n",
        "# .jpg dosyalarını 128x128 boyutunda vektör formatına dönüştür ve float16 tipine dönüştür\n",
        "images = []\n",
        "for file_name in image_files:\n",
        "    file_path = os.path.join(image_folder_path, file_name)\n",
        "    image = Image.open(file_path).convert(\"L\")  # Resmi aç ve gri tonlamalı (grayscale) yap\n",
        "    image = image.resize((128, 128))  # Resmi 128x128 boyutuna dönüştür\n",
        "    image_array = np.array(image)  # Resmi numpy dizisine dönüştür\n",
        "    image_vector = image_array.flatten().astype('float16')  # Resmi vektöre dönüştür ve float16 tipine dönüştür\n",
        "    images.append(image_vector)  # Vektörü diziye ekle\n",
        "\n",
        "# Türev al ve 1x16384 şekline dönüştür, ardından float16 tipine dönüştür\n",
        "derivative_images = []\n",
        "for image_vector in images:\n",
        "    derivative_vector = np.gradient(image_vector)  # Vektörün türevini al\n",
        "    derivative_vector = derivative_vector.flatten().astype('float16')  # Türev vektörünü düzleştir ve float16 tipine dönüştür\n",
        "    derivative_images.append(derivative_vector)  # Türev vektörü listeye ekle\n",
        "\n",
        "# Tüm türevli vektörleri 1x16384 şeklinde bir float16 dizisine dönüştür\n",
        "derivative_images_array = np.array(derivative_images, dtype='float16')\n",
        "\n",
        "# Sample test resmini hazırla (tc 1.jpg)\n",
        "sample_test_image_path = \"tf 1.jpg\"\n",
        "sample_test_image = Image.open(sample_test_image_path).convert(\"L\")\n",
        "sample_test_image = sample_test_image.resize((128, 128))\n",
        "sample_test_image_array = np.array(sample_test_image)\n",
        "sample_test_vector = sample_test_image_array.flatten().astype('float16')\n",
        "\n",
        "# KNN algoritmasını kullanarak sample_test resminin sınıfını tahmin et\n",
        "predicted_class = KNN(derivative_images_array, labels, sample_test_vector, k=5)\n",
        "print(\"Tahmin Edilen Sınıf:\", predicted_class)\n",
        "\n",
        "#print(\"Öklid:\", round(euclidean_distance(derivative_images_array[120],sample_test_vector), 2))\n"
      ],
      "metadata": {
        "colab": {
          "base_uri": "https://localhost:8080/"
        },
        "id": "FHZT9KJCXB1X",
        "outputId": "3ad9a6a9-4928-43fc-a41a-a0cb6ccd62c1"
      },
      "execution_count": null,
      "outputs": [
        {
          "output_type": "stream",
          "name": "stdout",
          "text": [
            "m\n",
            "f\n",
            "c\n",
            "c\n",
            "c\n",
            "Tahmin Edilen Sınıf: c\n"
          ]
        }
      ]
    }
  ]
}